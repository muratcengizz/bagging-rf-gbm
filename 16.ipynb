{
 "cells": [
  {
   "cell_type": "code",
   "execution_count": 1,
   "id": "a635d5a1-dd55-4161-9153-00934f194cc4",
   "metadata": {},
   "outputs": [],
   "source": [
    "import numpy as np\n",
    "import pandas as pd\n",
    "import seaborn as sns\n",
    "import matplotlib.pyplot as plt\n",
    "from sklearn.ensemble import BaggingRegressor, RandomForestRegressor, GradientBoostingRegressor\n",
    "from sklearn.model_selection import train_test_split, GridSearchCV\n",
    "from sklearn.metrics import r2_score, mean_squared_error\n",
    "from sklearn.preprocessing import StandardScaler"
   ]
  },
  {
   "cell_type": "code",
   "execution_count": 2,
   "id": "09c18eb7-66d2-45e8-bebd-e41c1d823857",
   "metadata": {},
   "outputs": [
    {
     "data": {
      "text/html": [
       "<div>\n",
       "<style scoped>\n",
       "    .dataframe tbody tr th:only-of-type {\n",
       "        vertical-align: middle;\n",
       "    }\n",
       "\n",
       "    .dataframe tbody tr th {\n",
       "        vertical-align: top;\n",
       "    }\n",
       "\n",
       "    .dataframe thead th {\n",
       "        text-align: right;\n",
       "    }\n",
       "</style>\n",
       "<table border=\"1\" class=\"dataframe\">\n",
       "  <thead>\n",
       "    <tr style=\"text-align: right;\">\n",
       "      <th></th>\n",
       "      <th>age</th>\n",
       "      <th>gender</th>\n",
       "      <th>income</th>\n",
       "      <th>credit_score</th>\n",
       "      <th>credit_card_usage</th>\n",
       "      <th>savings_balance</th>\n",
       "    </tr>\n",
       "  </thead>\n",
       "  <tbody>\n",
       "    <tr>\n",
       "      <th>0</th>\n",
       "      <td>56</td>\n",
       "      <td>male</td>\n",
       "      <td>44448.004733</td>\n",
       "      <td>638.522520</td>\n",
       "      <td>6738.309185</td>\n",
       "      <td>23357.655859</td>\n",
       "    </tr>\n",
       "    <tr>\n",
       "      <th>1</th>\n",
       "      <td>46</td>\n",
       "      <td>female</td>\n",
       "      <td>68811.570694</td>\n",
       "      <td>724.834961</td>\n",
       "      <td>4088.920948</td>\n",
       "      <td>27640.156797</td>\n",
       "    </tr>\n",
       "    <tr>\n",
       "      <th>2</th>\n",
       "      <td>32</td>\n",
       "      <td>female</td>\n",
       "      <td>35519.860996</td>\n",
       "      <td>676.734477</td>\n",
       "      <td>3221.518344</td>\n",
       "      <td>24437.519837</td>\n",
       "    </tr>\n",
       "    <tr>\n",
       "      <th>3</th>\n",
       "      <td>60</td>\n",
       "      <td>female</td>\n",
       "      <td>28011.940434</td>\n",
       "      <td>694.702582</td>\n",
       "      <td>6910.601116</td>\n",
       "      <td>23804.233272</td>\n",
       "    </tr>\n",
       "    <tr>\n",
       "      <th>4</th>\n",
       "      <td>25</td>\n",
       "      <td>male</td>\n",
       "      <td>54400.144501</td>\n",
       "      <td>832.217167</td>\n",
       "      <td>6752.093585</td>\n",
       "      <td>20300.429973</td>\n",
       "    </tr>\n",
       "  </tbody>\n",
       "</table>\n",
       "</div>"
      ],
      "text/plain": [
       "   age  gender        income  credit_score  credit_card_usage  savings_balance\n",
       "0   56    male  44448.004733    638.522520        6738.309185     23357.655859\n",
       "1   46  female  68811.570694    724.834961        4088.920948     27640.156797\n",
       "2   32  female  35519.860996    676.734477        3221.518344     24437.519837\n",
       "3   60  female  28011.940434    694.702582        6910.601116     23804.233272\n",
       "4   25    male  54400.144501    832.217167        6752.093585     20300.429973"
      ]
     },
     "execution_count": 2,
     "metadata": {},
     "output_type": "execute_result"
    }
   ],
   "source": [
    "# veri setini oluşturma\n",
    "\n",
    "np.random.seed(42)\n",
    "\n",
    "age = np.random.randint(18, 65, size=1000)\n",
    "gender = np.random.choice(['male', 'female'], size=1000)\n",
    "income = np.random.normal(50000, 10000, size=1000)\n",
    "credit_score = np.random.normal(700, 50, size=1000)\n",
    "credit_score_usage = np.random.normal(5000, 2000, size=1000)\n",
    "savings_balance = np.random.normal(20000, 5000, size=1000)\n",
    "\n",
    "data = pd.DataFrame({\n",
    "    'age':age, 'gender':gender, 'income':income,\n",
    "    'credit_score':credit_score, 'credit_card_usage':credit_score_usage,\n",
    "    'savings_balance':savings_balance\n",
    "})\n",
    "\n",
    "data_copy = data.copy()\n",
    "\n",
    "data.head()"
   ]
  },
  {
   "cell_type": "markdown",
   "id": "8df16cb6-1223-485c-b248-f68d47fdffdb",
   "metadata": {},
   "source": [
    "# Veri Analizi"
   ]
  },
  {
   "cell_type": "code",
   "execution_count": 3,
   "id": "998b89e8-644a-426b-ba5a-c63e8a369709",
   "metadata": {},
   "outputs": [
    {
     "data": {
      "text/html": [
       "<div>\n",
       "<style scoped>\n",
       "    .dataframe tbody tr th:only-of-type {\n",
       "        vertical-align: middle;\n",
       "    }\n",
       "\n",
       "    .dataframe tbody tr th {\n",
       "        vertical-align: top;\n",
       "    }\n",
       "\n",
       "    .dataframe thead th {\n",
       "        text-align: right;\n",
       "    }\n",
       "</style>\n",
       "<table border=\"1\" class=\"dataframe\">\n",
       "  <thead>\n",
       "    <tr style=\"text-align: right;\">\n",
       "      <th></th>\n",
       "      <th>count</th>\n",
       "      <th>mean</th>\n",
       "      <th>std</th>\n",
       "      <th>min</th>\n",
       "      <th>25%</th>\n",
       "      <th>50%</th>\n",
       "      <th>75%</th>\n",
       "      <th>max</th>\n",
       "    </tr>\n",
       "  </thead>\n",
       "  <tbody>\n",
       "    <tr>\n",
       "      <th>age</th>\n",
       "      <td>1000.0</td>\n",
       "      <td>40.986000</td>\n",
       "      <td>13.497852</td>\n",
       "      <td>18.000000</td>\n",
       "      <td>29.000000</td>\n",
       "      <td>42.000000</td>\n",
       "      <td>52.000000</td>\n",
       "      <td>64.000000</td>\n",
       "    </tr>\n",
       "    <tr>\n",
       "      <th>income</th>\n",
       "      <td>1000.0</td>\n",
       "      <td>50568.493322</td>\n",
       "      <td>10006.121202</td>\n",
       "      <td>20786.495165</td>\n",
       "      <td>43847.361028</td>\n",
       "      <td>50420.970688</td>\n",
       "      <td>57198.103225</td>\n",
       "      <td>81931.075678</td>\n",
       "    </tr>\n",
       "    <tr>\n",
       "      <th>credit_score</th>\n",
       "      <td>1000.0</td>\n",
       "      <td>700.829006</td>\n",
       "      <td>48.946063</td>\n",
       "      <td>549.024392</td>\n",
       "      <td>668.373805</td>\n",
       "      <td>700.176779</td>\n",
       "      <td>732.836850</td>\n",
       "      <td>896.311885</td>\n",
       "    </tr>\n",
       "    <tr>\n",
       "      <th>credit_card_usage</th>\n",
       "      <td>1000.0</td>\n",
       "      <td>4947.756781</td>\n",
       "      <td>2037.603221</td>\n",
       "      <td>-982.271942</td>\n",
       "      <td>3487.930761</td>\n",
       "      <td>4945.440410</td>\n",
       "      <td>6330.099155</td>\n",
       "      <td>11486.185939</td>\n",
       "    </tr>\n",
       "    <tr>\n",
       "      <th>savings_balance</th>\n",
       "      <td>1000.0</td>\n",
       "      <td>19750.040977</td>\n",
       "      <td>4985.381825</td>\n",
       "      <td>4116.480934</td>\n",
       "      <td>16586.975199</td>\n",
       "      <td>19952.166574</td>\n",
       "      <td>23171.188531</td>\n",
       "      <td>35760.283673</td>\n",
       "    </tr>\n",
       "  </tbody>\n",
       "</table>\n",
       "</div>"
      ],
      "text/plain": [
       "                    count          mean           std           min  \\\n",
       "age                1000.0     40.986000     13.497852     18.000000   \n",
       "income             1000.0  50568.493322  10006.121202  20786.495165   \n",
       "credit_score       1000.0    700.829006     48.946063    549.024392   \n",
       "credit_card_usage  1000.0   4947.756781   2037.603221   -982.271942   \n",
       "savings_balance    1000.0  19750.040977   4985.381825   4116.480934   \n",
       "\n",
       "                            25%           50%           75%           max  \n",
       "age                   29.000000     42.000000     52.000000     64.000000  \n",
       "income             43847.361028  50420.970688  57198.103225  81931.075678  \n",
       "credit_score         668.373805    700.176779    732.836850    896.311885  \n",
       "credit_card_usage   3487.930761   4945.440410   6330.099155  11486.185939  \n",
       "savings_balance    16586.975199  19952.166574  23171.188531  35760.283673  "
      ]
     },
     "execution_count": 3,
     "metadata": {},
     "output_type": "execute_result"
    }
   ],
   "source": [
    "data.describe().T"
   ]
  },
  {
   "cell_type": "code",
   "execution_count": 4,
   "id": "c595b21a-d5f0-4289-b2a2-930eb185b68f",
   "metadata": {},
   "outputs": [
    {
     "name": "stdout",
     "output_type": "stream",
     "text": [
      "<class 'pandas.core.frame.DataFrame'>\n",
      "RangeIndex: 1000 entries, 0 to 999\n",
      "Data columns (total 6 columns):\n",
      " #   Column             Non-Null Count  Dtype  \n",
      "---  ------             --------------  -----  \n",
      " 0   age                1000 non-null   int32  \n",
      " 1   gender             1000 non-null   object \n",
      " 2   income             1000 non-null   float64\n",
      " 3   credit_score       1000 non-null   float64\n",
      " 4   credit_card_usage  1000 non-null   float64\n",
      " 5   savings_balance    1000 non-null   float64\n",
      "dtypes: float64(4), int32(1), object(1)\n",
      "memory usage: 43.1+ KB\n"
     ]
    }
   ],
   "source": [
    "data.info()"
   ]
  },
  {
   "cell_type": "code",
   "execution_count": 5,
   "id": "489ca07e-89f8-41d1-b96d-fe52b33732e5",
   "metadata": {},
   "outputs": [
    {
     "name": "stderr",
     "output_type": "stream",
     "text": [
      "C:\\Users\\murat\\AppData\\Local\\Temp\\ipykernel_15128\\1282763891.py:2: FutureWarning: Dropping of nuisance columns in DataFrame reductions (with 'numeric_only=None') is deprecated; in a future version this will raise TypeError.  Select only valid columns before calling the reduction.\n",
      "  data.var()\n"
     ]
    },
    {
     "data": {
      "text/plain": [
       "age                  1.821920e+02\n",
       "income               1.001225e+08\n",
       "credit_score         2.395717e+03\n",
       "credit_card_usage    4.151827e+06\n",
       "savings_balance      2.485403e+07\n",
       "dtype: float64"
      ]
     },
     "execution_count": 5,
     "metadata": {},
     "output_type": "execute_result"
    }
   ],
   "source": [
    "# Varyans Analizi\n",
    "data.var()"
   ]
  },
  {
   "cell_type": "code",
   "execution_count": 6,
   "id": "9abba8a4-a546-4a46-b860-e5f0c0edebdc",
   "metadata": {},
   "outputs": [
    {
     "data": {
      "text/html": [
       "<div>\n",
       "<style scoped>\n",
       "    .dataframe tbody tr th:only-of-type {\n",
       "        vertical-align: middle;\n",
       "    }\n",
       "\n",
       "    .dataframe tbody tr th {\n",
       "        vertical-align: top;\n",
       "    }\n",
       "\n",
       "    .dataframe thead th {\n",
       "        text-align: right;\n",
       "    }\n",
       "</style>\n",
       "<table border=\"1\" class=\"dataframe\">\n",
       "  <thead>\n",
       "    <tr style=\"text-align: right;\">\n",
       "      <th></th>\n",
       "      <th>age</th>\n",
       "      <th>income</th>\n",
       "      <th>credit_score</th>\n",
       "      <th>credit_card_usage</th>\n",
       "      <th>savings_balance</th>\n",
       "    </tr>\n",
       "  </thead>\n",
       "  <tbody>\n",
       "    <tr>\n",
       "      <th>age</th>\n",
       "      <td>1.000000</td>\n",
       "      <td>-0.016884</td>\n",
       "      <td>-0.059438</td>\n",
       "      <td>0.084170</td>\n",
       "      <td>-0.006273</td>\n",
       "    </tr>\n",
       "    <tr>\n",
       "      <th>income</th>\n",
       "      <td>-0.016884</td>\n",
       "      <td>1.000000</td>\n",
       "      <td>-0.000539</td>\n",
       "      <td>-0.043822</td>\n",
       "      <td>-0.034042</td>\n",
       "    </tr>\n",
       "    <tr>\n",
       "      <th>credit_score</th>\n",
       "      <td>-0.059438</td>\n",
       "      <td>-0.000539</td>\n",
       "      <td>1.000000</td>\n",
       "      <td>0.018208</td>\n",
       "      <td>0.027018</td>\n",
       "    </tr>\n",
       "    <tr>\n",
       "      <th>credit_card_usage</th>\n",
       "      <td>0.084170</td>\n",
       "      <td>-0.043822</td>\n",
       "      <td>0.018208</td>\n",
       "      <td>1.000000</td>\n",
       "      <td>0.018596</td>\n",
       "    </tr>\n",
       "    <tr>\n",
       "      <th>savings_balance</th>\n",
       "      <td>-0.006273</td>\n",
       "      <td>-0.034042</td>\n",
       "      <td>0.027018</td>\n",
       "      <td>0.018596</td>\n",
       "      <td>1.000000</td>\n",
       "    </tr>\n",
       "  </tbody>\n",
       "</table>\n",
       "</div>"
      ],
      "text/plain": [
       "                        age    income  credit_score  credit_card_usage  \\\n",
       "age                1.000000 -0.016884     -0.059438           0.084170   \n",
       "income            -0.016884  1.000000     -0.000539          -0.043822   \n",
       "credit_score      -0.059438 -0.000539      1.000000           0.018208   \n",
       "credit_card_usage  0.084170 -0.043822      0.018208           1.000000   \n",
       "savings_balance   -0.006273 -0.034042      0.027018           0.018596   \n",
       "\n",
       "                   savings_balance  \n",
       "age                      -0.006273  \n",
       "income                   -0.034042  \n",
       "credit_score              0.027018  \n",
       "credit_card_usage         0.018596  \n",
       "savings_balance           1.000000  "
      ]
     },
     "execution_count": 6,
     "metadata": {},
     "output_type": "execute_result"
    }
   ],
   "source": [
    "# Korelasyon Analizi\n",
    "data.corr()"
   ]
  },
  {
   "cell_type": "code",
   "execution_count": 7,
   "id": "90ebc1b3-5323-44b7-a5a3-2be1a1d52718",
   "metadata": {},
   "outputs": [
    {
     "data": {
      "text/plain": [
       "age                  False\n",
       "gender               False\n",
       "income               False\n",
       "credit_score         False\n",
       "credit_card_usage    False\n",
       "savings_balance      False\n",
       "dtype: bool"
      ]
     },
     "execution_count": 7,
     "metadata": {},
     "output_type": "execute_result"
    }
   ],
   "source": [
    "# Eksik Gözlem Analizi\n",
    "data.isnull().any()"
   ]
  },
  {
   "cell_type": "code",
   "execution_count": 8,
   "id": "6e78e37c-0732-4619-a168-b3f4a59ab6f8",
   "metadata": {},
   "outputs": [
    {
     "data": {
      "image/png": "[encoded data removed]",
      "text/plain": [
       "<Figure size 432x288 with 1 Axes>"
      ]
     },
     "metadata": {
      "needs_background": "light"
     },
     "output_type": "display_data"
    }
   ],
   "source": [
    "# Aykırı gözlem analizi\n",
    "sns.boxplot(data=data);"
   ]
  },
  {
   "cell_type": "markdown",
   "id": "a08d3eda-01a7-4042-8935-e4e85874b5db",
   "metadata": {},
   "source": [
    "# Veri Ön İşleme"
   ]
  },
  {
   "cell_type": "code",
   "execution_count": 9,
   "id": "d155e372-3128-4c02-abc3-106623d5aa35",
   "metadata": {},
   "outputs": [],
   "source": [
    "q1, q3 = (data['income'].quantile(0.25), data['income'].quantile(0.75))\n",
    "iqr = q3 - q1\n",
    "alt_esik = q1 - 1.5 * iqr\n",
    "ust_esik = q3 + 1.5 * iqr\n",
    "data['income'] = np.clip(data['income'], alt_esik, ust_esik)\n",
    "\n",
    "q1, q3 = (data['credit_score'].quantile(0.25), data['credit_score'].quantile(0.75))\n",
    "iqr = q3 - q1\n",
    "alt_esik = q1 - 1.5 * iqr\n",
    "ust_esik = q3 + 1.5 * iqr\n",
    "data['credit_score'] = np.clip(data['credit_score'], alt_esik, ust_esik)\n",
    "\n",
    "q1, q3 = (data['credit_card_usage'].quantile(0.25), data['credit_card_usage'].quantile(0.75))\n",
    "iqr = q3 - q1\n",
    "alt_esik = q1 - 1.5 * iqr\n",
    "ust_esik = q3 + 1.5 * iqr\n",
    "data['credit_card_usage'] = np.clip(data['credit_card_usage'], alt_esik, ust_esik)\n",
    "\n",
    "q1, q3 = (data['savings_balance'].quantile(0.25), data['savings_balance'].quantile(0.75))\n",
    "iqr = q3 - q1\n",
    "alt_esik = q1 - 1.5 * iqr\n",
    "ust_esik = q3 + 1.5 * iqr\n",
    "data['savings_balance'] = np.clip(data['savings_balance'], alt_esik, ust_esik)"
   ]
  },
  {
   "cell_type": "code",
   "execution_count": 10,
   "id": "5129530f-53ee-4c37-8488-5b519ced09bb",
   "metadata": {},
   "outputs": [
    {
     "data": {
      "image/png": "[encoded data removed]",
      "text/plain": [
       "<Figure size 432x288 with 1 Axes>"
      ]
     },
     "metadata": {
      "needs_background": "light"
     },
     "output_type": "display_data"
    }
   ],
   "source": [
    "sns.boxplot(data=data);"
   ]
  },
  {
   "cell_type": "code",
   "execution_count": 11,
   "id": "cf39b639-b70e-4797-988e-65030cddf053",
   "metadata": {},
   "outputs": [],
   "source": [
    "# Gender kategorik değişkenini sayısal değişkene çevirelim.\n",
    "data['gender'] = data['gender'].map({'male':0, 'female':1})"
   ]
  },
  {
   "cell_type": "code",
   "execution_count": 12,
   "id": "6500baf3-df98-4957-8303-4ccb091d8bc4",
   "metadata": {},
   "outputs": [],
   "source": [
    "# Bağımlı değişkenleri standartlaştıralım.\n",
    "lbe = StandardScaler()\n",
    "data['age'] = lbe.fit_transform(data['age'].values.reshape(-1, 1))\n",
    "data['income'] = lbe.fit_transform(data['income'].values.reshape(-1, 1))\n",
    "data['gender'] = lbe.fit_transform(data['gender'].values.reshape(-1, 1))\n",
    "data['credit_score'] = lbe.fit_transform(data['income'].values.reshape(-1, 1))\n",
    "data['credit_card_usage'] = lbe.fit_transform(data['credit_card_usage'].values.reshape(-1, 1))"
   ]
  },
  {
   "cell_type": "code",
   "execution_count": 13,
   "id": "4697746b-c35c-492b-819f-a9c30a3ff96d",
   "metadata": {},
   "outputs": [
    {
     "data": {
      "text/html": [
       "<div>\n",
       "<style scoped>\n",
       "    .dataframe tbody tr th:only-of-type {\n",
       "        vertical-align: middle;\n",
       "    }\n",
       "\n",
       "    .dataframe tbody tr th {\n",
       "        vertical-align: top;\n",
       "    }\n",
       "\n",
       "    .dataframe thead th {\n",
       "        text-align: right;\n",
       "    }\n",
       "</style>\n",
       "<table border=\"1\" class=\"dataframe\">\n",
       "  <thead>\n",
       "    <tr style=\"text-align: right;\">\n",
       "      <th></th>\n",
       "      <th>age</th>\n",
       "      <th>gender</th>\n",
       "      <th>income</th>\n",
       "      <th>credit_score</th>\n",
       "      <th>credit_card_usage</th>\n",
       "      <th>savings_balance</th>\n",
       "    </tr>\n",
       "  </thead>\n",
       "  <tbody>\n",
       "    <tr>\n",
       "      <th>0</th>\n",
       "      <td>1.112882</td>\n",
       "      <td>-0.949284</td>\n",
       "      <td>-0.615496</td>\n",
       "      <td>-0.615496</td>\n",
       "      <td>0.881279</td>\n",
       "      <td>23357.655859</td>\n",
       "    </tr>\n",
       "  </tbody>\n",
       "</table>\n",
       "</div>"
      ],
      "text/plain": [
       "        age    gender    income  credit_score  credit_card_usage  \\\n",
       "0  1.112882 -0.949284 -0.615496     -0.615496           0.881279   \n",
       "\n",
       "   savings_balance  \n",
       "0     23357.655859  "
      ]
     },
     "execution_count": 13,
     "metadata": {},
     "output_type": "execute_result"
    }
   ],
   "source": [
    "data.head(1)"
   ]
  },
  {
   "cell_type": "markdown",
   "id": "b9836b41-5d69-4dfe-b887-05cce6c9f1cd",
   "metadata": {},
   "source": [
    "# Model"
   ]
  },
  {
   "cell_type": "code",
   "execution_count": 14,
   "id": "d8ccf3fb-a8dd-4add-aa4c-ec486c2b3365",
   "metadata": {},
   "outputs": [],
   "source": [
    "# Bağımlı ve bağımsız değişkenleri oluşturalım.\n",
    "X = data.drop('savings_balance', axis=1)\n",
    "y = data['savings_balance']"
   ]
  },
  {
   "cell_type": "code",
   "execution_count": 15,
   "id": "1c239fe5-c5f8-4c7d-be87-965c2d4d7947",
   "metadata": {},
   "outputs": [],
   "source": [
    "# Eğitim ve test setlerini ayıralım.\n",
    "X_train, X_test, y_train, y_test = train_test_split(X, y, test_size=0.2, random_state=42)"
   ]
  },
  {
   "cell_type": "code",
   "execution_count": 16,
   "id": "4c22bb76-bf42-4ed3-b043-c19f92bff694",
   "metadata": {},
   "outputs": [
    {
     "name": "stdout",
     "output_type": "stream",
     "text": [
      "BaggingRegressor Modeli İçin,\n",
      " R^2: -0.13326961274086058\n",
      "MSE: 25618652.466417465\n",
      "RMSE: 5061.487179319677\n",
      "\n",
      "\n",
      "RandomForestRegressor Modeli İçin,\n",
      " R^2: -0.07119060314427839\n",
      "MSE: 24215296.588491973\n",
      "RMSE: 4920.90404178866\n",
      "\n",
      "\n",
      "GradientBoostingRegressor Modeli İçin,\n",
      " R^2: -0.013374732714920512\n",
      "MSE: 22908313.082606837\n",
      "RMSE: 4786.262955856775\n",
      "\n",
      "\n"
     ]
    }
   ],
   "source": [
    "# Modeli oluşturalım ve eğitelim.\n",
    "models = {\n",
    "    'BaggingRegressor': BaggingRegressor(),\n",
    "    'RandomForestRegressor': RandomForestRegressor(),\n",
    "    'GradientBoostingRegressor': GradientBoostingRegressor()\n",
    "}\n",
    "\n",
    "for name, model in models.items():\n",
    "    model = model.fit(X_train, y_train)\n",
    "    predict = model.predict(X_test)\n",
    "    r2 = r2_score(y_test, predict)\n",
    "    mse = mean_squared_error(y_test, predict)\n",
    "    rmse = np.sqrt(mse)\n",
    "    print(f'{name} Modeli İçin,\\n R^2: {r2}\\nMSE: {mse}\\nRMSE: {rmse}')\n",
    "    print('\\n')"
   ]
  },
  {
   "cell_type": "markdown",
   "id": "899913e0-adaa-4ba5-aa4f-29df3ffa7044",
   "metadata": {},
   "source": [
    "### Bu veri seti için default hiperparametreler ile en iyi sonucu GradientBoostingRegresson algoritması verdir. Fakat sonuçlar, bağımsız değişkenlerin bağımlı değişkeni hiç açıklayamadığını gösteriyor. Bu modeli kurduktan hemen sonra standartlaştırma işlemi yapmasaydık sonuç nasıl olurdu sorunu cevaplamak için tekrardan model kuracağız."
   ]
  },
  {
   "cell_type": "markdown",
   "id": "72eacaa0-3e15-4fb4-8aec-dd066b039e6c",
   "metadata": {},
   "source": [
    "# Model Tuning"
   ]
  },
  {
   "cell_type": "code",
   "execution_count": 17,
   "id": "5da7c435-ab04-4a58-831d-f1732d072308",
   "metadata": {},
   "outputs": [
    {
     "data": {
      "text/plain": [
       "{'alpha': 0.9,\n",
       " 'ccp_alpha': 0.0,\n",
       " 'criterion': 'friedman_mse',\n",
       " 'init': None,\n",
       " 'learning_rate': 0.1,\n",
       " 'loss': 'squared_error',\n",
       " 'max_depth': 3,\n",
       " 'max_features': None,\n",
       " 'max_leaf_nodes': None,\n",
       " 'min_impurity_decrease': 0.0,\n",
       " 'min_samples_leaf': 1,\n",
       " 'min_samples_split': 2,\n",
       " 'min_weight_fraction_leaf': 0.0,\n",
       " 'n_estimators': 100,\n",
       " 'n_iter_no_change': None,\n",
       " 'random_state': None,\n",
       " 'subsample': 1.0,\n",
       " 'tol': 0.0001,\n",
       " 'validation_fraction': 0.1,\n",
       " 'verbose': 0,\n",
       " 'warm_start': False}"
      ]
     },
     "execution_count": 17,
     "metadata": {},
     "output_type": "execute_result"
    }
   ],
   "source": [
    "model = GradientBoostingRegressor()\n",
    "model.get_params()"
   ]
  },
  {
   "cell_type": "code",
   "execution_count": 18,
   "id": "31dc95a4-7ce7-4467-a71e-98f3c33e09be",
   "metadata": {},
   "outputs": [
    {
     "name": "stdout",
     "output_type": "stream",
     "text": [
      "Best Parameters:  {'learning_rate': 0.01, 'max_depth': 3, 'min_samples_leaf': 4, 'min_samples_split': 10, 'n_estimators': 50}\n"
     ]
    }
   ],
   "source": [
    "params = {\n",
    "    'n_estimators': [50, 100, 150],\n",
    "    'learning_rate': [0.01, 0.1, 1.0],\n",
    "    'max_depth': [3, 5, 7],\n",
    "    'min_samples_split': [2, 5, 10],\n",
    "    'min_samples_leaf': [1, 2, 4],\n",
    "}\n",
    "\n",
    "grid = GridSearchCV(estimator=model, param_grid=params, cv=5).fit(X_train, y_train)\n",
    "\n",
    "best_params = grid.best_params_\n",
    "print('Best Parameters: ', best_params)"
   ]
  },
  {
   "cell_type": "code",
   "execution_count": 19,
   "id": "7248f932-c9e9-4172-809e-0fa1dec37a9f",
   "metadata": {},
   "outputs": [
    {
     "name": "stdout",
     "output_type": "stream",
     "text": [
      "R^2:  -0.003709232595759726\n",
      "MSE:  22689815.131472304\n",
      "RMSE:  4763.38274039283\n"
     ]
    }
   ],
   "source": [
    "model = GradientBoostingRegressor(**best_params).fit(X_train, y_train)\n",
    "predict = model.predict(X_test)\n",
    "r2 = r2_score(y_test, predict)\n",
    "mse = mean_squared_error(y_test, predict)\n",
    "rmse = np.sqrt(mse)\n",
    "\n",
    "print('R^2: ', r2)\n",
    "print('MSE: ', mse)\n",
    "print('RMSE: ', rmse)"
   ]
  },
  {
   "cell_type": "code",
   "execution_count": 20,
   "id": "1be22727-3d4b-40d6-b409-b5d5adc7003a",
   "metadata": {},
   "outputs": [
    {
     "data": {
      "text/html": [
       "<div>\n",
       "<style scoped>\n",
       "    .dataframe tbody tr th:only-of-type {\n",
       "        vertical-align: middle;\n",
       "    }\n",
       "\n",
       "    .dataframe tbody tr th {\n",
       "        vertical-align: top;\n",
       "    }\n",
       "\n",
       "    .dataframe thead th {\n",
       "        text-align: right;\n",
       "    }\n",
       "</style>\n",
       "<table border=\"1\" class=\"dataframe\">\n",
       "  <thead>\n",
       "    <tr style=\"text-align: right;\">\n",
       "      <th></th>\n",
       "      <th>Gerçek Değerler</th>\n",
       "      <th>Tahmin Değerleri</th>\n",
       "    </tr>\n",
       "  </thead>\n",
       "  <tbody>\n",
       "    <tr>\n",
       "      <th>521</th>\n",
       "      <td>17512.137508</td>\n",
       "      <td>19855.651693</td>\n",
       "    </tr>\n",
       "    <tr>\n",
       "      <th>737</th>\n",
       "      <td>28326.759588</td>\n",
       "      <td>19866.648154</td>\n",
       "    </tr>\n",
       "    <tr>\n",
       "      <th>740</th>\n",
       "      <td>23261.530758</td>\n",
       "      <td>19866.648154</td>\n",
       "    </tr>\n",
       "    <tr>\n",
       "      <th>660</th>\n",
       "      <td>16932.061973</td>\n",
       "      <td>19711.704731</td>\n",
       "    </tr>\n",
       "    <tr>\n",
       "      <th>411</th>\n",
       "      <td>20959.488679</td>\n",
       "      <td>19711.704731</td>\n",
       "    </tr>\n",
       "  </tbody>\n",
       "</table>\n",
       "</div>"
      ],
      "text/plain": [
       "     Gerçek Değerler  Tahmin Değerleri\n",
       "521     17512.137508      19855.651693\n",
       "737     28326.759588      19866.648154\n",
       "740     23261.530758      19866.648154\n",
       "660     16932.061973      19711.704731\n",
       "411     20959.488679      19711.704731"
      ]
     },
     "execution_count": 20,
     "metadata": {},
     "output_type": "execute_result"
    }
   ],
   "source": [
    "result = pd.DataFrame({\n",
    "    'Gerçek Değerler': y_test,\n",
    "    'Tahmin Değerleri': predict\n",
    "})\n",
    "result.head()"
   ]
  },
  {
   "cell_type": "markdown",
   "id": "3ad6b327-3072-4fc3-a2a9-995c186c2964",
   "metadata": {},
   "source": [
    "### Şimdi ise bağımsız değişkenleri standartlaştırmadan model oluşturalım."
   ]
  },
  {
   "cell_type": "code",
   "execution_count": 23,
   "id": "e2e7631c-953c-4bc0-9ae2-3f09c10789c2",
   "metadata": {},
   "outputs": [
    {
     "data": {
      "text/html": [
       "<div>\n",
       "<style scoped>\n",
       "    .dataframe tbody tr th:only-of-type {\n",
       "        vertical-align: middle;\n",
       "    }\n",
       "\n",
       "    .dataframe tbody tr th {\n",
       "        vertical-align: top;\n",
       "    }\n",
       "\n",
       "    .dataframe thead th {\n",
       "        text-align: right;\n",
       "    }\n",
       "</style>\n",
       "<table border=\"1\" class=\"dataframe\">\n",
       "  <thead>\n",
       "    <tr style=\"text-align: right;\">\n",
       "      <th></th>\n",
       "      <th>age</th>\n",
       "      <th>gender</th>\n",
       "      <th>income</th>\n",
       "      <th>credit_score</th>\n",
       "      <th>credit_card_usage</th>\n",
       "      <th>savings_balance</th>\n",
       "    </tr>\n",
       "  </thead>\n",
       "  <tbody>\n",
       "    <tr>\n",
       "      <th>0</th>\n",
       "      <td>56</td>\n",
       "      <td>male</td>\n",
       "      <td>44448.004733</td>\n",
       "      <td>638.522520</td>\n",
       "      <td>6738.309185</td>\n",
       "      <td>23357.655859</td>\n",
       "    </tr>\n",
       "    <tr>\n",
       "      <th>1</th>\n",
       "      <td>46</td>\n",
       "      <td>female</td>\n",
       "      <td>68811.570694</td>\n",
       "      <td>724.834961</td>\n",
       "      <td>4088.920948</td>\n",
       "      <td>27640.156797</td>\n",
       "    </tr>\n",
       "    <tr>\n",
       "      <th>2</th>\n",
       "      <td>32</td>\n",
       "      <td>female</td>\n",
       "      <td>35519.860996</td>\n",
       "      <td>676.734477</td>\n",
       "      <td>3221.518344</td>\n",
       "      <td>24437.519837</td>\n",
       "    </tr>\n",
       "    <tr>\n",
       "      <th>3</th>\n",
       "      <td>60</td>\n",
       "      <td>female</td>\n",
       "      <td>28011.940434</td>\n",
       "      <td>694.702582</td>\n",
       "      <td>6910.601116</td>\n",
       "      <td>23804.233272</td>\n",
       "    </tr>\n",
       "    <tr>\n",
       "      <th>4</th>\n",
       "      <td>25</td>\n",
       "      <td>male</td>\n",
       "      <td>54400.144501</td>\n",
       "      <td>832.217167</td>\n",
       "      <td>6752.093585</td>\n",
       "      <td>20300.429973</td>\n",
       "    </tr>\n",
       "  </tbody>\n",
       "</table>\n",
       "</div>"
      ],
      "text/plain": [
       "   age  gender        income  credit_score  credit_card_usage  savings_balance\n",
       "0   56    male  44448.004733    638.522520        6738.309185     23357.655859\n",
       "1   46  female  68811.570694    724.834961        4088.920948     27640.156797\n",
       "2   32  female  35519.860996    676.734477        3221.518344     24437.519837\n",
       "3   60  female  28011.940434    694.702582        6910.601116     23804.233272\n",
       "4   25    male  54400.144501    832.217167        6752.093585     20300.429973"
      ]
     },
     "execution_count": 23,
     "metadata": {},
     "output_type": "execute_result"
    }
   ],
   "source": [
    "data_copy.head()"
   ]
  },
  {
   "cell_type": "code",
   "execution_count": 24,
   "id": "3ae8e5f8-e03a-404d-bc73-a9649ec39022",
   "metadata": {},
   "outputs": [],
   "source": [
    "# Bağımlı ve bağımsız değişkenleri oluşturalım.\n",
    "X = data_copy.drop(['gender', 'savings_balance'], axis=1)\n",
    "y = data_copy['savings_balance']"
   ]
  },
  {
   "cell_type": "code",
   "execution_count": 25,
   "id": "8c13d3ae-1a66-4c7a-9776-7bcd9c697e19",
   "metadata": {},
   "outputs": [],
   "source": [
    "# Eğitim ve test setlerini ayıralım.\n",
    "X_train, X_test, y_train, y_test = train_test_split(X, y, test_size=0.2, random_state=42)"
   ]
  },
  {
   "cell_type": "code",
   "execution_count": 27,
   "id": "3a50aa4d-2316-4b84-8025-b002cef3b390",
   "metadata": {},
   "outputs": [],
   "source": [
    "# Modeli oluşturalım ve eğitelim.\n",
    "model = GradientBoostingRegressor().fit(X_train, y_train)"
   ]
  },
  {
   "cell_type": "code",
   "execution_count": 28,
   "id": "23722d53-7d0f-4cc2-a1c1-7e19db2d4a9e",
   "metadata": {},
   "outputs": [],
   "source": [
    "# Tahmin işlemi yapalım.\n",
    "predict = model.predict(X_test)"
   ]
  },
  {
   "cell_type": "code",
   "execution_count": 29,
   "id": "d74f17f8-2bcd-47f7-85c8-3d773ac757c1",
   "metadata": {},
   "outputs": [
    {
     "name": "stdout",
     "output_type": "stream",
     "text": [
      "R^2:  -0.04964888744368712\n",
      "MSE:  24402231.831853904\n",
      "RMSE:  4939.861519501726\n"
     ]
    }
   ],
   "source": [
    "# Modeli Değerlendirelim.\n",
    "r2 = r2_score(y_test, predict)\n",
    "mse = mean_squared_error(y_test, predict)\n",
    "rmse = np.sqrt(mse)\n",
    "\n",
    "print('R^2: ', r2)\n",
    "print('MSE: ', mse)\n",
    "print('RMSE: ', rmse)"
   ]
  },
  {
   "cell_type": "markdown",
   "id": "7fc4be08-ce11-4ff6-87e7-8ec6dff13b19",
   "metadata": {},
   "source": [
    "# Sonuç\n",
    "\n",
    "### Amacımız standartlaştırılmış veri ile standartlaştırılmamış verinin arasındaki farkı incelemekti. Bağımsız değişkenleri standartlaştırdığımız zaman R^2 değeri (-0.003) geldi. Standartlaştırmadığımız zaman ise (-0.04) geldi. Yani veriyi standartlaştırdığımız zaman daha iyi bir model performansı elde edebildik. \n",
    "\n",
    "### Tabiki bu performansı incelediğimiz zaman hiç başarılı olmadığını rahatlıkla söyleyebiliriz. Bunun sebebi ise veri setini kendimiz rastgele değerler kullanarak oluşturduk. Gerçek hayat senaryosunu temsil etmiyor. Amacımız, BaggingRegressor, RandomForestRegressor ve GradientBoostingRegressor arasında bir yarışma yapmaktı. Ayrıca standartlaştırılmış verinin performansı ile standartlaştırılmamış verinin performansını da karşılaştırmak istedik. Tüm bu işlemleri yaparken de kullandığımız teknolojileri de pratik etme fırsatı yakalamış olduk. "
   ]
  }
 ],
 "metadata": {
  "kernelspec": {
   "display_name": "Python 3 (ipykernel)",
   "language": "python",
   "name": "python3"
  },
  "language_info": {
   "codemirror_mode": {
    "name": "ipython",
    "version": 3
   },
   "file_extension": ".py",
   "mimetype": "text/x-python",
   "name": "python",
   "nbconvert_exporter": "python",
   "pygments_lexer": "ipython3",
   "version": "3.9.12"
  }
 },
 "nbformat": 4,
 "nbformat_minor": 5
}
